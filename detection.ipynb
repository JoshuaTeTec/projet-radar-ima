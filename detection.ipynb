{
 "cells": [
  {
   "cell_type": "code",
   "execution_count": null,
   "id": "2e45f2da",
   "metadata": {
    "vscode": {
     "languageId": "plaintext"
    }
   },
   "outputs": [],
   "source": [
    "!pip install numpy "
   ]
  },
  {
   "cell_type": "code",
   "execution_count": null,
   "id": "673efa51",
   "metadata": {
    "vscode": {
     "languageId": "plaintext"
    }
   },
   "outputs": [],
   "source": [
    "from PIL import Image\n",
    "import numpy as np\n",
    "\n",
    "# Charger une image\n",
    "img = Image.open(\"ex1_avant.png\").convert(\"L\")  # \"L\" = niveau de gris\n",
    "\n",
    "# Convertir en matrice NumPy\n",
    "matrice = np.array(img)\n",
    "\n",
    "print(matrice.shape)   # dimensions (H, W)\n",
    "print(matrice)         # affiche la matrice des pixels\n"
   ]
  }
 ],
 "metadata": {
  "language_info": {
   "name": "python"
  }
 },
 "nbformat": 4,
 "nbformat_minor": 5
}
